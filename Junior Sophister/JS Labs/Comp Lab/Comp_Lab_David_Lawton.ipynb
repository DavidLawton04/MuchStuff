{
 "cells": [
  {
   "cell_type": "code",
   "execution_count": 3,
   "metadata": {},
   "outputs": [],
   "source": [
    "import numpy as np\n",
    "import matplotlib.pyplot as plt\n",
    "from scipy.integrate import simps"
   ]
  },
  {
   "cell_type": "code",
   "execution_count": 4,
   "metadata": {},
   "outputs": [],
   "source": [
    "# Pick some number of evenly spaced points N\n",
    "N = 1000\n",
    "Psi = np.zeros(N)\n",
    "\n",
    "# Set gamma squared to some value, physical params contained in this\n",
    "GammaSquare = 200\n",
    "\n",
    "# Define the dimensionless potential\n",
    "def nu(xtilde):\n",
    "    return -1\n",
    "\n",
    "# Pick some trial dimensionless energy, nrg, which must be greater\n",
    "# than the minimum of the dimensionless potential, nu\n",
    "# (see Griffiths Quantum mechanics Problem 2.2)\n",
    "nrg = -0.9\n",
    "\n",
    "# Set array of dimensionless x values\n",
    "xtilde_vals = np.linspace(0, 1, N)"
   ]
  },
  {
   "cell_type": "code",
   "execution_count": 5,
   "metadata": {},
   "outputs": [],
   "source": [
    "# Define iterative method for solving the Schrodinger equation\n",
    "def iterative_method(Psi_, k_squared_vals_, N_):\n",
    "    l_squared = (1/N)**2\n",
    "    p_vals, q_vals = 1 - (5/12) * l_squared * k_squared_vals_, 1 + (1/12) * l_squared * k_squared_vals_\n",
    "    for i in range(2, N_):\n",
    "        Psi_[i] = (2*p_vals[i-1]*Psi_[i-1] - q_vals[i-2]*Psi_[i-2])/q_vals[i]\n",
    "    return Psi_"
   ]
  },
  {
   "cell_type": "code",
   "execution_count": 6,
   "metadata": {},
   "outputs": [
    {
     "name": "stderr",
     "output_type": "stream",
     "text": [
      "<>:23: SyntaxWarning: invalid escape sequence '\\p'\n",
      "<>:23: SyntaxWarning: invalid escape sequence '\\p'\n",
      "/tmp/ipykernel_4550/2732459611.py:23: SyntaxWarning: invalid escape sequence '\\p'\n",
      "  ax.set_ylabel('$\\psi(x/L)$')\n"
     ]
    }
   ],
   "source": [
    "def analysis(Psi_, nrg_, nu_, xtilde_vals_, N_, GammaSquare_):\n",
    "\n",
    "    # Set the dimensionless energy array so that calculation is easier.\n",
    "    nrg_vals = nrg_*np.ones(N_)\n",
    "\n",
    "    # Calculate the potential and k squared values from the inputted potential.\n",
    "    # points and energy.\n",
    "    potential_vals = [nu_(x) for x in xtilde_vals_]\n",
    "    k_squared_vals = GammaSquare_ * (nrg_vals - potential_vals)\n",
    "\n",
    "    # For nu=-1, first two points given by\n",
    "    Psi_[0], Psi_[1] = 0, 1E-4\n",
    "\n",
    "    # Calculate the wavefunction from these points.\n",
    "    Psi_ = iterative_method(Psi_, k_squared_vals, N_)\n",
    "\n",
    "    fig, ax = plt.subplots()\n",
    "    fig.suptitle('Numerical Solution to the Schrodinger Equation')\n",
    "\n",
    "    ax.grid(alpha=0.6)\n",
    "    ax.plot(xtilde_vals_, Psi_, label='Numerical Solution')\n",
    "    ax.set_xlabel('$x/L$')\n",
    "    ax.set_ylabel('$\\psi(x/L)$')\n",
    "\n",
    "    plt.show()\n",
    "    plt.close()\n",
    "\n",
    "# analysis(Psi, nrg, nu, xtilde_vals, N, GammaSquare)\n",
    "\n",
    "\n",
    "def analysis_no_plot(Psi_, nrg_, nu_, xtilde_vals_, N_, GammaSquare_):\n",
    "\n",
    "    # Set the dimensionless energy array so that calculation is easier.\n",
    "    nrg_vals = nrg_*np.ones(N_)\n",
    "\n",
    "    # Calculate the potential and k squared values from the inputted potential.\n",
    "    # points and energy.\n",
    "    potential_vals = [nu_(x) for x in xtilde_vals_]\n",
    "    k_squared_vals = GammaSquare_ * (nrg_vals - potential_vals)\n",
    "\n",
    "    # For nu=-1, first two points given by\n",
    "    Psi_[0], Psi_[1] = 0, 1E-4\n",
    "\n",
    "    # Calculate the wavefunction from these points.\n",
    "    Psi_ = iterative_method(Psi_, k_squared_vals, N_)\n",
    "    return Psi_"
   ]
  },
  {
   "cell_type": "code",
   "execution_count": 12,
   "metadata": {},
   "outputs": [],
   "source": [
    "def Shooting_method(nrg_, nu_, xtilde_vals_, N_, GammaSquare_):\n",
    "        dnrg = 1E-4\n",
    "        tolerance = 1E-7\n",
    "\n",
    "        Psi_ = np.zeros(N_)\n",
    "        Psi_ = analysis_no_plot(Psi_, nrg_, nu_, xtilde_vals_, N_, GammaSquare_)\n",
    "        Psi_end_vals = [Psi_[-1]]\n",
    "\n",
    "        while dnrg > tolerance:\n",
    "            nrg_ += dnrg\n",
    "            Psi_prime = analysis_no_plot(Psi_, nrg_, nu_, xtilde_vals_, N_, GammaSquare_)\n",
    "            Psi_end_vals.append(Psi_prime[-1])\n",
    "            if Psi_end_vals[-1]*Psi_end_vals[-2] < 0:\n",
    "                dnrg = -dnrg/2\n",
    "            if Psi_end_vals[-1] == 0:\n",
    "                break\n",
    "        return nrg_"
   ]
  },
  {
   "cell_type": "code",
   "execution_count": 13,
   "metadata": {},
   "outputs": [
    {
     "name": "stdout",
     "output_type": "stream",
     "text": [
      "-0.8022000000000108\n",
      "Iteration 0 complete\n",
      "Iteration 1 complete\n",
      "Iteration 2 complete\n",
      "Iteration 3 complete\n",
      "Iteration 4 complete\n",
      "Iteration 5 complete\n",
      "Iteration 6 complete\n",
      "Iteration 7 complete\n",
      "Iteration 8 complete\n",
      "Iteration 9 complete\n",
      "Iteration 10 complete\n",
      "Iteration 11 complete\n",
      "Iteration 12 complete\n",
      "Iteration 13 complete\n",
      "Iteration 14 complete\n",
      "Iteration 15 complete\n",
      "Iteration 16 complete\n",
      "Iteration 17 complete\n",
      "Iteration 18 complete\n",
      "Iteration 19 complete\n",
      "Iteration 20 complete\n",
      "Iteration 21 complete\n",
      "Iteration 22 complete\n",
      "Iteration 23 complete\n",
      "Iteration 24 complete\n",
      "Iteration 25 complete\n",
      "Iteration 26 complete\n",
      "Iteration 27 complete\n",
      "Iteration 28 complete\n",
      "Iteration 29 complete\n",
      "Iteration 30 complete\n",
      "Iteration 31 complete\n",
      "Iteration 32 complete\n",
      "Iteration 33 complete\n",
      "Iteration 34 complete\n",
      "Iteration 35 complete\n",
      "Iteration 36 complete\n",
      "Iteration 37 complete\n",
      "Iteration 38 complete\n",
      "Iteration 39 complete\n",
      "[-0.9505     -0.80221026 -0.55492051 -0.20883077 -0.20884103 -0.20875128\n",
      "  0.23623846  0.23622821  0.78011795  0.78010769  0.78009744  0.78018718\n",
      "  1.42297692  1.42296667  1.42295641  1.42294615  2.1646359   2.16462564\n",
      "  2.16461538  2.16460513  2.16469487  3.00528462  3.00527436  3.0052641\n",
      "  3.00525385  3.00524359  3.00523333  3.94472308  3.94471282  3.94470256\n",
      "  3.94469231  3.94478205  3.94477179  4.98316154  4.98315128  4.98314103\n",
      "  4.98313077  4.98312051  4.98311026  6.1204      0.          0.\n",
      "  0.          0.          0.          0.          0.          0.\n",
      "  0.          0.          0.          0.          0.          0.\n",
      "  0.          0.          0.          0.          0.          0.\n",
      "  0.          0.          0.          0.          0.          0.\n",
      "  0.          0.          0.          0.          0.          0.\n",
      "  0.          0.          0.          0.          0.          0.\n",
      "  0.          0.          0.          0.          0.          0.\n",
      "  0.          0.          0.          0.          0.          0.\n",
      "  0.          0.          0.          0.          0.          0.\n",
      "  0.          0.          0.          0.          0.          0.\n",
      "  0.          0.          0.          0.          0.          0.\n",
      "  0.          0.          0.          0.          0.          0.\n",
      "  0.          0.          0.          0.          0.          0.\n",
      "  0.          0.          0.          0.          0.          0.\n",
      "  0.          0.          0.          0.          0.          0.\n",
      "  0.          0.          0.          0.          0.          0.\n",
      "  0.          0.          0.          0.          0.          0.\n",
      "  0.          0.          0.          0.          0.          0.\n",
      "  0.          0.          0.          0.          0.          0.\n",
      "  0.          0.          0.          0.          0.          0.\n",
      "  0.          0.          0.          0.          0.          0.\n",
      "  0.          0.          0.          0.          0.          0.\n",
      "  0.          0.          0.          0.          0.          0.\n",
      "  0.          0.          0.          0.          0.          0.\n",
      "  0.          0.          0.          0.          0.          0.\n",
      "  0.          0.          0.          0.          0.          0.\n",
      "  0.          0.          0.          0.          0.          0.\n",
      "  0.          0.          0.          0.          0.          0.\n",
      "  0.          0.          0.          0.          0.          0.\n",
      "  0.          0.          0.          0.          0.          0.\n",
      "  0.          0.          0.          0.          0.          0.\n",
      "  0.          0.          0.          0.          0.          0.\n",
      "  0.          0.          0.          0.          0.          0.\n",
      "  0.          0.          0.          0.          0.          0.\n",
      "  0.          0.          0.          0.          0.          0.\n",
      "  0.          0.          0.          0.          0.          0.\n",
      "  0.          0.          0.          0.          0.          0.\n",
      "  0.          0.          0.          0.          0.          0.\n",
      "  0.          0.          0.          0.          0.          0.\n",
      "  0.          0.          0.          0.          0.          0.\n",
      "  0.          0.          0.          0.          0.          0.\n",
      "  0.          0.          0.          0.          0.          0.\n",
      "  0.          0.          0.          0.          0.          0.\n",
      "  0.          0.          0.          0.          0.          0.\n",
      "  0.          0.          0.          0.          0.          0.\n",
      "  0.          0.          0.          0.          0.          0.\n",
      "  0.          0.          0.          0.          0.          0.\n",
      "  0.          0.          0.          0.          0.          0.\n",
      "  0.          0.          0.          0.          0.          0.\n",
      "  0.          0.          0.          0.          0.          0.\n",
      "  0.          0.          0.          0.          0.          0.\n",
      "  0.          0.          0.          0.          0.          0.\n",
      "  0.          0.          0.          0.          0.          0.\n",
      "  0.          0.          0.          0.          0.          0.\n",
      "  0.          0.          0.          0.          0.          0.\n",
      "  0.          0.          0.          0.          0.          0.\n",
      "  0.          0.          0.          0.          0.          0.\n",
      "  0.          0.          0.          0.          0.          0.\n",
      "  0.          0.          0.          0.          0.          0.\n",
      "  0.          0.          0.          0.          0.          0.\n",
      "  0.          0.          0.          0.          0.          0.\n",
      "  0.          0.          0.          0.          0.          0.\n",
      "  0.          0.          0.          0.          0.          0.\n",
      "  0.          0.          0.          0.          0.          0.\n",
      "  0.          0.          0.          0.          0.          0.\n",
      "  0.          0.          0.          0.          0.          0.\n",
      "  0.          0.          0.          0.          0.          0.\n",
      "  0.          0.          0.          0.          0.          0.\n",
      "  0.          0.          0.          0.          0.          0.\n",
      "  0.          0.          0.          0.          0.          0.\n",
      "  0.          0.          0.          0.          0.          0.\n",
      "  0.          0.          0.          0.          0.          0.\n",
      "  0.          0.          0.          0.          0.          0.\n",
      "  0.          0.          0.          0.          0.          0.\n",
      "  0.          0.          0.          0.          0.          0.\n",
      "  0.          0.          0.          0.          0.          0.\n",
      "  0.          0.        ]\n"
     ]
    }
   ],
   "source": [
    "energy = Shooting_method(nrg, nu, xtilde_vals, N, GammaSquare)\n",
    "print(energy)\n",
    "    \n",
    "energy_starting_values = np.linspace(-0.99, 5, 40)\n",
    "energy_final_values = np.zeros(500)\n",
    "for i in range(len(energy_starting_values)):\n",
    "    energy_final_values[i] = Shooting_method(energy_starting_values[i], nu, xtilde_vals, N, GammaSquare)\n",
    "    print(f'Iteration {i} complete')\n",
    "\n",
    "print(energy_final_values)"
   ]
  },
  {
   "cell_type": "code",
   "execution_count": 14,
   "metadata": {},
   "outputs": [
    {
     "name": "stdout",
     "output_type": "stream",
     "text": [
      " [-0.9505     -0.80221026 -0.55492051 -0.20875128  0.23622821  0.78018718\n",
      "  1.42294615  2.16469487  3.00523333  3.94477179] \n",
      " [[-0.95065198 -0.80260791 -0.5558678  -0.21043165  0.23370055  0.77652879\n",
      "   1.41805308  2.15827341  2.99718978  3.9348022 ]\n",
      " [ 1.          2.          3.          4.          5.          6.\n",
      "   7.          8.          9.         10.        ]]\n"
     ]
    }
   ],
   "source": [
    "analytic_energies = [[],[]]\n",
    "for n in range(10):\n",
    "    analytic_energies[0].append(((n + 1)**2 * np.pi**2 / GammaSquare) - 1)\n",
    "    analytic_energies[1].append(n + 1)\n",
    "\n",
    "for a in energy_final_values:\n",
    "    if a == 0.: energy_final_values = energy_final_values[energy_final_values!=a]\n",
    "    if a > 4:   energy_final_values = energy_final_values[energy_final_values!=a]\n",
    "    for b in energy_final_values[energy_final_values!=a]:\n",
    "        if np.isclose(a, b, atol=1E-1):\n",
    "                energy_final_values = energy_final_values[energy_final_values!=a]\n",
    "\n",
    "print('',energy_final_values, '\\n',np.array(analytic_energies))\n",
    "        "
   ]
  },
  {
   "cell_type": "code",
   "execution_count": 47,
   "metadata": {},
   "outputs": [
    {
     "name": "stderr",
     "output_type": "stream",
     "text": [
      "<>:7: SyntaxWarning: invalid escape sequence '\\D'\n",
      "<>:7: SyntaxWarning: invalid escape sequence '\\D'\n",
      "/tmp/ipykernel_5521/612722864.py:7: SyntaxWarning: invalid escape sequence '\\D'\n",
      "  axs[0].set_ylabel('$\\Delta E$')\n"
     ]
    },
    {
     "data": {
      "text/plain": [
       "[<matplotlib.lines.Line2D at 0x75872054b950>]"
      ]
     },
     "execution_count": 47,
     "metadata": {},
     "output_type": "execute_result"
    },
    {
     "data": {
      "image/png": "[encoded data removed]",
      "text/plain": [
       "<Figure size 1000x1000 with 2 Axes>"
      ]
     },
     "metadata": {},
     "output_type": "display_data"
    }
   ],
   "source": [
    "fig, axs = plt.subplots(2, 1, figsize=(10, 10))\n",
    "fig.suptitle('Numerical vs Analytic Energies')\n",
    "\n",
    "axs[0].grid(alpha=0.6)\n",
    "axs[0].plot(analytic_energies[1], energy_final_values-analytic_energies[0], 'o', label='Total Energy')\n",
    "axs[0].set_xlabel('Iteration')\n",
    "axs[0].set_ylabel('$\\Delta E$')\n",
    "\n",
    "axs[1].grid(alpha=0.6)\n",
    "axs[1].plot(analytic_energies[1], (np.abs(energy_final_values-analytic_energies[0])/analytic_energies[0]), 'o', label='Relative Error') "
   ]
  }
 ],
 "metadata": {
  "kernelspec": {
   "display_name": "Python 3",
   "language": "python",
   "name": "python3"
  },
  "language_info": {
   "codemirror_mode": {
    "name": "ipython",
    "version": 3
   },
   "file_extension": ".py",
   "mimetype": "text/x-python",
   "name": "python",
   "nbconvert_exporter": "python",
   "pygments_lexer": "ipython3",
   "version": "3.12.3"
  }
 },
 "nbformat": 4,
 "nbformat_minor": 2
}

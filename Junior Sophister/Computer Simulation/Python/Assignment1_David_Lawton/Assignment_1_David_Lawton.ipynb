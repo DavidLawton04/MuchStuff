{
 "cells": [
  {
   "cell_type": "markdown",
   "metadata": {},
   "source": [
    "We first import the libraries we are going to use in this assignment, pandas for data analysis, numpy for maths, and matplotlib.pyplot for plotting."
   ]
  },
  {
   "cell_type": "code",
   "execution_count": 2,
   "metadata": {},
   "outputs": [],
   "source": [
    "import numpy as np\n",
    "import pandas as pd\n",
    "import matplotlib.pyplot as plt"
   ]
  },
  {
   "cell_type": "markdown",
   "metadata": {},
   "source": [
    "We then read in the data file `planets_2024.csv' using pandas.read_csv(), and print the head of the table to see categories etc."
   ]
  },
  {
   "cell_type": "code",
   "execution_count": 7,
   "metadata": {},
   "outputs": [
    {
     "data": {
      "text/html": [
       "<div>\n",
       "<style scoped>\n",
       "    .dataframe tbody tr th:only-of-type {\n",
       "        vertical-align: middle;\n",
       "    }\n",
       "\n",
       "    .dataframe tbody tr th {\n",
       "        vertical-align: top;\n",
       "    }\n",
       "\n",
       "    .dataframe thead th {\n",
       "        text-align: right;\n",
       "    }\n",
       "</style>\n",
       "<table border=\"1\" class=\"dataframe\">\n",
       "  <thead>\n",
       "    <tr style=\"text-align: right;\">\n",
       "      <th></th>\n",
       "      <th>pl_name</th>\n",
       "      <th>hostname</th>\n",
       "      <th>disc_year</th>\n",
       "      <th>disc_facility</th>\n",
       "      <th>pl_orbsmax</th>\n",
       "      <th>pl_bmassj</th>\n",
       "      <th>st_mass</th>\n",
       "      <th>sy_dist</th>\n",
       "    </tr>\n",
       "  </thead>\n",
       "  <tbody>\n",
       "    <tr>\n",
       "      <th>0</th>\n",
       "      <td>11 Com b</td>\n",
       "      <td>11 Com</td>\n",
       "      <td>2007</td>\n",
       "      <td>Xinglong Station</td>\n",
       "      <td>1.178</td>\n",
       "      <td>15.464</td>\n",
       "      <td>2.09</td>\n",
       "      <td>93.1846</td>\n",
       "    </tr>\n",
       "    <tr>\n",
       "      <th>1</th>\n",
       "      <td>11 UMi b</td>\n",
       "      <td>11 UMi</td>\n",
       "      <td>2009</td>\n",
       "      <td>Thueringer Landessternwarte Tautenburg</td>\n",
       "      <td>1.530</td>\n",
       "      <td>14.740</td>\n",
       "      <td>2.78</td>\n",
       "      <td>125.3210</td>\n",
       "    </tr>\n",
       "    <tr>\n",
       "      <th>2</th>\n",
       "      <td>14 And b</td>\n",
       "      <td>14 And</td>\n",
       "      <td>2008</td>\n",
       "      <td>Okayama Astrophysical Observatory</td>\n",
       "      <td>0.775</td>\n",
       "      <td>3.559</td>\n",
       "      <td>1.78</td>\n",
       "      <td>75.4392</td>\n",
       "    </tr>\n",
       "    <tr>\n",
       "      <th>3</th>\n",
       "      <td>14 Her b</td>\n",
       "      <td>14 Her</td>\n",
       "      <td>2002</td>\n",
       "      <td>W. M. Keck Observatory</td>\n",
       "      <td>2.774</td>\n",
       "      <td>8.053</td>\n",
       "      <td>0.91</td>\n",
       "      <td>17.9323</td>\n",
       "    </tr>\n",
       "    <tr>\n",
       "      <th>4</th>\n",
       "      <td>16 Cyg B b</td>\n",
       "      <td>16 Cyg B</td>\n",
       "      <td>1996</td>\n",
       "      <td>Multiple Observatories</td>\n",
       "      <td>1.660</td>\n",
       "      <td>1.780</td>\n",
       "      <td>1.08</td>\n",
       "      <td>21.1397</td>\n",
       "    </tr>\n",
       "  </tbody>\n",
       "</table>\n",
       "</div>"
      ],
      "text/plain": [
       "      pl_name  hostname  disc_year                           disc_facility  \\\n",
       "0    11 Com b    11 Com       2007                        Xinglong Station   \n",
       "1    11 UMi b    11 UMi       2009  Thueringer Landessternwarte Tautenburg   \n",
       "2    14 And b    14 And       2008       Okayama Astrophysical Observatory   \n",
       "3    14 Her b    14 Her       2002                  W. M. Keck Observatory   \n",
       "4  16 Cyg B b  16 Cyg B       1996                  Multiple Observatories   \n",
       "\n",
       "   pl_orbsmax  pl_bmassj  st_mass   sy_dist  \n",
       "0       1.178     15.464     2.09   93.1846  \n",
       "1       1.530     14.740     2.78  125.3210  \n",
       "2       0.775      3.559     1.78   75.4392  \n",
       "3       2.774      8.053     0.91   17.9323  \n",
       "4       1.660      1.780     1.08   21.1397  "
      ]
     },
     "execution_count": 7,
     "metadata": {},
     "output_type": "execute_result"
    }
   ],
   "source": [
    "data_file = pd.read_csv('/home/dj-lawton/Documents/Junior Sophister/Computer Simulation/Python/Lab1/planets_2024.csv', skiprows=16)\n",
    "\n",
    "data_file.head()"
   ]
  },
  {
   "cell_type": "code",
   "execution_count": 24,
   "metadata": {},
   "outputs": [
    {
     "name": "stdout",
     "output_type": "stream",
     "text": [
      "0       2007\n",
      "1       2009\n",
      "2       2008\n",
      "3       2002\n",
      "4       1996\n",
      "        ... \n",
      "5761    1996\n",
      "5762    1999\n",
      "5763    1999\n",
      "5764    2021\n",
      "5765    2007\n",
      "Name: disc_year, Length: 5766, dtype: int64\n",
      "[1992 1994 1995 1996 1997 1998 1999 2000 2001 2002 2003 2004 2005 2006\n",
      " 2007 2008 2009 2010 2011 2012 2013 2014 2015 2016 2017 2018 2019 2020\n",
      " 2021 2022 2023 2024]\n"
     ]
    },
    {
     "data": {
      "text/plain": [
       "Text(0, 0.5, 'Number of Planets Discovered')"
      ]
     },
     "execution_count": 24,
     "metadata": {},
     "output_type": "execute_result"
    },
    {
     "data": {
      "image/png": "[encoded data removed]",
      "text/plain": [
       "<Figure size 640x480 with 1 Axes>"
      ]
     },
     "metadata": {},
     "output_type": "display_data"
    }
   ],
   "source": [
    "planet_disc_years = data_file['disc_year']\n",
    "print(planet_disc_years)\n",
    "unique_disc_years = np.unique(planet_disc_years)\n",
    "print(unique_disc_years)\n",
    "planets_per_year = []\n",
    "for year in unique_disc_years:\n",
    "    planets_per_year.append(len(planet_disc_years[planet_disc_years == year]))\n",
    "\n",
    "fig, ax = plt.subplots()\n",
    "fig.suptitle('Number of Planets Discovered per Year')\n",
    "ax.plot(unique_disc_years, planets_per_year, marker='o', markersize=3, drawstyle='steps-mid')\n",
    "ax.set_xlabel('Year')\n",
    "ax.set_ylabel('Number of Planets Discovered')"
   ]
  }
 ],
 "metadata": {
  "kernelspec": {
   "display_name": "Python 3",
   "language": "python",
   "name": "python3"
  },
  "language_info": {
   "codemirror_mode": {
    "name": "ipython",
    "version": 3
   },
   "file_extension": ".py",
   "mimetype": "text/x-python",
   "name": "python",
   "nbconvert_exporter": "python",
   "pygments_lexer": "ipython3",
   "version": "3.12.3"
  }
 },
 "nbformat": 4,
 "nbformat_minor": 2
}
